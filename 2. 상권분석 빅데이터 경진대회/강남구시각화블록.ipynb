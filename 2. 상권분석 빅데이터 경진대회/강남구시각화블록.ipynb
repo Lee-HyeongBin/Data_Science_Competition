{
 "cells": [
  {
   "cell_type": "code",
   "execution_count": 17,
   "metadata": {},
   "outputs": [],
   "source": [
    "# values 데이터 가져오기\n",
    "\n",
    "강남1 = [271723, 281004, 356726, 357349,  16214,  19490,  27914, 176477,\n",
    "       265840, 267467, 267485, 272984, 274613, 275243, 353371, 354720,\n",
    "       355774, 358312, 358634, 359000, 359326, 360699, 422440] # 편의점\n",
    "\n",
    "강남2_2 = [24434,  28225,  32939,  33657, 268862, 269096, 269170, 269615,\n",
    "       273081, 275113, 275731, 358280, 358754, 362355, 416854,  24432,\n",
    "        24454,  28415,  28550,  29886,  30542,  30781,  31010,  31225,\n",
    "        31433,  31982,  32010,  32015,  32389,  32431,  33195,  35690,\n",
    "       148970, 190043, 264864, 264905, 267620, 268941, 269025, 275004,\n",
    "       275037, 275418, 278658, 278968, 349527, 353377, 359917, 416920,\n",
    "       421780, 501906] # 미용실\n",
    "\n",
    "강남2_0 = [24426,  28416,  28742,  32531,  33154,  33564, 502205,  24441,\n",
    "        28374,  32718,  32808,  33633,  33666,  33672] # 미용실\n",
    "\n",
    "강남2_1 = [24427,  21716,  27731,  28217,  28726,  33681, 269181, 273386,\n",
    "       357596, 357892, 417990] # 미용실\n",
    "\n",
    "강남3_0 = [19579,  24412,  24541,  28292,  29886,  30781,  30783,  31123,\n",
    "        31166,  32010, 265582, 265915, 267444, 267601, 270770, 273715,\n",
    "       274614, 275122, 277250, 278232, 278485, 278691, 279623, 279879,\n",
    "       279882, 353406, 354056, 356803, 364689, 421981,  18071,  24480,\n",
    "        24561,  24563,  30859,  30921,  30946,  31045,  31067,  31204,\n",
    "        31244,  31560,  32103,  32909,  33147,  33610, 163441, 198235,\n",
    "       266233, 267679, 271034, 271766, 271837, 272983, 275734, 278705,\n",
    "       278874, 279676, 280096, 354489, 355787, 356402, 357373, 357467,\n",
    "       358398, 360652, 421394, 422411] # 의약품\n",
    "\n",
    "강남4_0 = [24389,  24421,  24444,  24561,  25891,  27842,  28432,  28934,\n",
    "        31470,  32769,  33653, 264066, 269079, 269169, 269342, 273603,\n",
    "       305992, 334754, 350521, 353384, 358763, 359065, 360652, 416921,\n",
    "       419478,  24436,  24443,  24466,  24500,  24503,  28307,  28416,\n",
    "        28742,  28958,  28970,  30767,  31169,  31214,  33563, 265948,\n",
    "       267466, 268718, 269036, 269045, 269202, 270211, 270229, 270388,\n",
    "       275113, 288047, 334668, 349749, 349822, 357893, 359987] # 일반의류\n",
    "\n",
    "강남5_0 = [24422,  24446,  30460, 269340, 354490, 358634,  17754,  32702,\n",
    "        32731, 265756, 274522, 341952, 357419, 358404, 418661, 419866] # 중식음식점\n",
    "\n",
    "강남6_2 = [21487,  24503,  25491,  28903,  31233,  32637,  33163,  33631,\n",
    "        33652, 185292, 268277, 269025, 269036, 269127, 275884, 354016,\n",
    "       354327, 420271,   4906,  20271,  24423,  24433,  24470,  24564,\n",
    "        25376,  27271,  28431,  31168,  31435,  31471,  32985,  33677,\n",
    "       186654, 267484, 269037, 269079, 269162, 270838, 350521, 354853,\n",
    "       422409] # 양식음식점\n",
    "\n",
    "강남6_0 = [28307,  32568,  33672,  33676, 269157, 283724,  25891,  26949,\n",
    "        27842,  32970,  33072,  33154,  33632] # 양식음식점\n",
    "\n",
    "강남7_2 = [142098, 270716, 275453, 281000, 353361, 354017, 355764, 355895,\n",
    "       357595, 358243] # 치과의원\n",
    "\n",
    "강남7_1 = [30963,  31546,  31796,  32431, 148970, 264916, 268153, 268923,\n",
    "       274423, 288047, 358312,  20665,  21829,  24484,  24501,  24543,\n",
    "        24545,  28068,  28376,  28903,  30911,  31983,  32209,  33025,\n",
    "        33593, 128976, 264647, 268925, 269010, 269097, 270557, 270751,\n",
    "       271945, 272611, 277239, 278691, 279607, 280588, 347668, 353429,\n",
    "       354718, 356804, 357626, 358602, 358801, 360889, 365506, 365507] # 치과의원\n",
    "\n",
    "강남8_1 = [281000, 281392,  24424, 360727, 420978] # 슈퍼마켓"
   ]
  },
  {
   "cell_type": "code",
   "execution_count": 18,
   "metadata": {},
   "outputs": [],
   "source": [
    "import pandas as pd\n",
    "blck_dim=pd.read_csv(\"C:/Users/bigdata10/Desktop/데이터/BLCK_DIM.csv\",sep=\"|\")"
   ]
  },
  {
   "cell_type": "code",
   "execution_count": 19,
   "metadata": {},
   "outputs": [],
   "source": [
    "blck_dim.index=blck_dim[\"BLCK_CD\"]"
   ]
  },
  {
   "cell_type": "code",
   "execution_count": 20,
   "metadata": {},
   "outputs": [],
   "source": [
    "import numpy as np\n",
    "gangnam1 = blck_dim.loc[강남1]\n",
    "gangnam1.index =np.arange(0,len(gangnam1))"
   ]
  },
  {
   "cell_type": "code",
   "execution_count": 5,
   "metadata": {},
   "outputs": [],
   "source": [
    "gangnam2_0 = blck_dim.loc[강남2_0]\n",
    "gangnam2_0.index =np.arange(0,len(gangnam2_0)) "
   ]
  },
  {
   "cell_type": "code",
   "execution_count": 6,
   "metadata": {},
   "outputs": [],
   "source": [
    "gangnam2_1 = blck_dim.loc[강남2_1]\n",
    "gangnam2_1.index =np.arange(0,len(gangnam2_1)) "
   ]
  },
  {
   "cell_type": "code",
   "execution_count": 7,
   "metadata": {},
   "outputs": [],
   "source": [
    "gangnam2_2 = blck_dim.loc[강남2_2]\n",
    "gangnam2_2.index =np.arange(0,len(gangnam2_2))"
   ]
  },
  {
   "cell_type": "code",
   "execution_count": 8,
   "metadata": {},
   "outputs": [],
   "source": [
    "gangnam3_0 = blck_dim.loc[강남3_0]\n",
    "gangnam3_0.index =np.arange(0,len(gangnam3_0)) "
   ]
  },
  {
   "cell_type": "code",
   "execution_count": 9,
   "metadata": {},
   "outputs": [],
   "source": [
    "gangnam4_0 = blck_dim.loc[강남4_0]\n",
    "gangnam4_0.index =np.arange(0,len(gangnam4_0)) "
   ]
  },
  {
   "cell_type": "code",
   "execution_count": 10,
   "metadata": {},
   "outputs": [],
   "source": [
    "gangnam5_0 = blck_dim.loc[강남5_0]\n",
    "gangnam5_0.index =np.arange(0,len(gangnam5_0)) "
   ]
  },
  {
   "cell_type": "code",
   "execution_count": 11,
   "metadata": {},
   "outputs": [],
   "source": [
    "gangnam6_0 = blck_dim.loc[강남6_0]\n",
    "gangnam6_0.index =np.arange(0,len(gangnam6_0)) "
   ]
  },
  {
   "cell_type": "code",
   "execution_count": 12,
   "metadata": {},
   "outputs": [],
   "source": [
    "gangnam6_2 = blck_dim.loc[강남6_2]\n",
    "gangnam6_2.index =np.arange(0,len(gangnam6_2)) "
   ]
  },
  {
   "cell_type": "code",
   "execution_count": 13,
   "metadata": {},
   "outputs": [],
   "source": [
    "gangnam7_1 = blck_dim.loc[강남7_1]\n",
    "gangnam7_1.index =np.arange(0,len(gangnam7_1)) "
   ]
  },
  {
   "cell_type": "code",
   "execution_count": 14,
   "metadata": {},
   "outputs": [],
   "source": [
    "gangnam7_2 = blck_dim.loc[강남7_2]\n",
    "gangnam7_2.index =np.arange(0,len(gangnam7_2)) "
   ]
  },
  {
   "cell_type": "code",
   "execution_count": 21,
   "metadata": {},
   "outputs": [],
   "source": [
    "gangnam8_1 = blck_dim.loc[강남8_1]\n",
    "gangnam8_1.index =np.arange(0,len(gangnam8_1)) "
   ]
  },
  {
   "cell_type": "code",
   "execution_count": 16,
   "metadata": {},
   "outputs": [],
   "source": [
    "gangnam1.iloc[:,0:-4].to_csv(\"gangnam1.csv\",index=False)\n",
    "\n",
    "gangnam2_0.iloc[:,0:-4].to_csv(\"gangnam2_0.csv\",index=False)\n",
    "gangnam2_1.iloc[:,0:-4].to_csv(\"gangnam2_1.csv\",index=False)\n",
    "gangnam2_2.iloc[:,0:-4].to_csv(\"gangnam2_2.csv\",index=False)\n",
    "\n",
    "gangnam3_0.iloc[:,0:-4].to_csv(\"gangnam3_0.csv\",index=False)\n",
    "gangnam4_0.iloc[:,0:-4].to_csv(\"gangnam4_0.csv\",index=False)\n",
    "gangnam5_0.iloc[:,0:-4].to_csv(\"gangnam5_0.csv\",index=False)\n",
    "\n",
    "gangnam6_0.iloc[:,0:-4].to_csv(\"gangnam6_0.csv\",index=False)\n",
    "gangnam6_2.iloc[:,0:-4].to_csv(\"gangnam6_2.csv\",index=False)\n",
    "\n",
    "gangnam7_1.iloc[:,0:-4].to_csv(\"gangnam7_1.csv\",index=False)\n",
    "gangnam7_2.iloc[:,0:-4].to_csv(\"gangnam7_2.csv\",index=False)\n",
    "\n",
    "gangnam8_1.iloc[:,0:-4].to_csv(\"gangnam8_1.csv\",index=False)"
   ]
  }
 ],
 "metadata": {
  "kernelspec": {
   "display_name": "Python 3",
   "language": "python",
   "name": "python3"
  },
  "language_info": {
   "codemirror_mode": {
    "name": "ipython",
    "version": 3
   },
   "file_extension": ".py",
   "mimetype": "text/x-python",
   "name": "python",
   "nbconvert_exporter": "python",
   "pygments_lexer": "ipython3",
   "version": "3.7.6"
  }
 },
 "nbformat": 4,
 "nbformat_minor": 4
}
