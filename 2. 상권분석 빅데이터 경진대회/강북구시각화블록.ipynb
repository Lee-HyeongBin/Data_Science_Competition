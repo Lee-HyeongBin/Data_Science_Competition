{
 "cells": [
  {
   "cell_type": "code",
   "execution_count": 3,
   "metadata": {},
   "outputs": [],
   "source": [
    "한식음식점_0 =[218496, 218667, 219573, 219599, 219604, 219880, 220117, 220140,\n",
    "       220714, 220720, 220721, 221075, 221121, 221280, 219031, 219299,\n",
    "       220132, 220501]\n",
    "한식음식점_2 =[218961, 219550, 220109, 220149, 220154, 220450, 338618, 215851,\n",
    "       220152, 220423, 220427, 410193]\n",
    "\n",
    "호프_간이주점_2=[219585, 220055, 220132, 220501, 220117, 220713, 220727, 220825,\n",
    "       221121]\n",
    "\n",
    "일반의원_0= [220427, 213458, 219918, 220490]\n",
    "의약품_3 =[216345, 218971, 220178, 220722, 221105, 218961, 219560, 219751,\n",
    "       220084, 220470, 220725, 221280]\n",
    "\n",
    "\n",
    "\n",
    "#슈퍼마켓_2=[215859, 216090, 218652, 219568, 219899, 220407]\n",
    "#미용실_0=[216411, 219299, 219933, 220731, 220877]"
   ]
  },
  {
   "cell_type": "code",
   "execution_count": 2,
   "metadata": {},
   "outputs": [],
   "source": [
    "import pandas as pd\n",
    "blck_dim=pd.read_csv(\"C:/Users/bigdata10/Desktop/데이터/BLCK_DIM.csv\",sep=\"|\")"
   ]
  },
  {
   "cell_type": "code",
   "execution_count": 4,
   "metadata": {},
   "outputs": [],
   "source": [
    "blck_dim.index=blck_dim[\"BLCK_CD\"]"
   ]
  },
  {
   "cell_type": "code",
   "execution_count": 12,
   "metadata": {},
   "outputs": [],
   "source": [
    "import numpy as np\n",
    "gangbuk1_0=blck_dim.loc[한식음식점_0]\n",
    "gangbuk1_0.index =np.arange(0,len(gangbuk1_0)) "
   ]
  },
  {
   "cell_type": "code",
   "execution_count": 13,
   "metadata": {},
   "outputs": [],
   "source": [
    "gangbuk1_2 = blck_dim.loc[한식음식점_2]\n",
    "gangbuk1_2.index =np.arange(0,len(gangbuk1_2)) "
   ]
  },
  {
   "cell_type": "code",
   "execution_count": 14,
   "metadata": {},
   "outputs": [],
   "source": [
    "gangbuk2_2 = blck_dim.loc[호프_간이주점_2]\n",
    "gangbuk2_2.index =np.arange(0,len(gangbuk2_2)) "
   ]
  },
  {
   "cell_type": "code",
   "execution_count": 15,
   "metadata": {},
   "outputs": [],
   "source": [
    "gangbuk3_0 = blck_dim.loc[일반의원_0]\n",
    "gangbuk3_0.index =np.arange(0,len(gangbuk3_0)) "
   ]
  },
  {
   "cell_type": "code",
   "execution_count": 16,
   "metadata": {},
   "outputs": [],
   "source": [
    "gangbuk4_3 = blck_dim.loc[의약품_3]\n",
    "gangbuk4_3.index =np.arange(0,len(gangbuk4_3)) "
   ]
  },
  {
   "cell_type": "code",
   "execution_count": 32,
   "metadata": {},
   "outputs": [],
   "source": [
    "gangbuk1_0.iloc[:,0:-4].to_csv(\"gangbuk1_0.csv\",index=False)\n",
    "gangbuk1_2.iloc[:,0:-4].to_csv(\"gangbuk1_2.csv\",index=False)\n",
    "gangbuk2_2.iloc[:,0:-4].to_csv(\"gangbuk2_2.csv\",index=False)\n",
    "gangbuk3_0.iloc[:,0:-4].to_csv(\"gangbuk3_0.csv\",index=False)\n",
    "gangbuk4_3.iloc[:,0:-4].to_csv(\"gangbuk4_3.csv\",index=False)"
   ]
  }
 ],
 "metadata": {
  "kernelspec": {
   "display_name": "Python 3",
   "language": "python",
   "name": "python3"
  },
  "language_info": {
   "codemirror_mode": {
    "name": "ipython",
    "version": 3
   },
   "file_extension": ".py",
   "mimetype": "text/x-python",
   "name": "python",
   "nbconvert_exporter": "python",
   "pygments_lexer": "ipython3",
   "version": "3.7.6"
  }
 },
 "nbformat": 4,
 "nbformat_minor": 4
}
